{
 "cells": [
  {
   "cell_type": "markdown",
   "metadata": {
    "collapsed": true
   },
   "source": [
    "# Egocentric Network analysis"
   ]
  },
  {
   "cell_type": "markdown",
   "metadata": {},
   "source": [
    "The data: sample output from limesurvey\n",
    "Ego's were ask to state their age and gender (1 = m, 2 = w), as well as to name their friends (alter 1 - n), whether these friends know each other and how well (1-3), their friends age and gender."
   ]
  },
  {
   "cell_type": "code",
   "execution_count": 1,
   "metadata": {},
   "outputs": [],
   "source": [
    "# import libraries\n",
    "import pandas as pd\n",
    "import numpy as np\n",
    "import networkx as nx\n",
    "import matplotlib.pyplot as plt\n",
    "import matplotlib as mlp\n",
    "from pylab import text\n",
    "import matplotlib.patches as mpatches"
   ]
  },
  {
   "cell_type": "code",
   "execution_count": 2,
   "metadata": {},
   "outputs": [
    {
     "data": {
      "text/html": [
       "<div>\n",
       "<style scoped>\n",
       "    .dataframe tbody tr th:only-of-type {\n",
       "        vertical-align: middle;\n",
       "    }\n",
       "\n",
       "    .dataframe tbody tr th {\n",
       "        vertical-align: top;\n",
       "    }\n",
       "\n",
       "    .dataframe thead th {\n",
       "        text-align: right;\n",
       "    }\n",
       "</style>\n",
       "<table border=\"1\" class=\"dataframe\">\n",
       "  <thead>\n",
       "    <tr style=\"text-align: right;\">\n",
       "      <th></th>\n",
       "      <th>AlterAge1</th>\n",
       "      <th>AlterAge2</th>\n",
       "      <th>AlterAge3</th>\n",
       "      <th>AlterAge4</th>\n",
       "      <th>AlterAge5</th>\n",
       "      <th>AlterGender1</th>\n",
       "      <th>AlterGender2</th>\n",
       "      <th>AlterGender3</th>\n",
       "      <th>AlterGender4</th>\n",
       "      <th>AlterGender5</th>\n",
       "      <th>...</th>\n",
       "      <th>knowing1-2</th>\n",
       "      <th>knowing1-3</th>\n",
       "      <th>knowing1-4</th>\n",
       "      <th>knowing1-5</th>\n",
       "      <th>knowing2-3</th>\n",
       "      <th>knowing2-4</th>\n",
       "      <th>knowing2-5</th>\n",
       "      <th>knowing3-4</th>\n",
       "      <th>knowing3-5</th>\n",
       "      <th>knowing4-5</th>\n",
       "    </tr>\n",
       "  </thead>\n",
       "  <tbody>\n",
       "    <tr>\n",
       "      <th>0</th>\n",
       "      <td>45</td>\n",
       "      <td>18</td>\n",
       "      <td>25</td>\n",
       "      <td>24.0</td>\n",
       "      <td>NaN</td>\n",
       "      <td>1</td>\n",
       "      <td>1</td>\n",
       "      <td>2</td>\n",
       "      <td>2.0</td>\n",
       "      <td>NaN</td>\n",
       "      <td>...</td>\n",
       "      <td>1</td>\n",
       "      <td>2.0</td>\n",
       "      <td>1</td>\n",
       "      <td>NaN</td>\n",
       "      <td>NaN</td>\n",
       "      <td>NaN</td>\n",
       "      <td>NaN</td>\n",
       "      <td>2.0</td>\n",
       "      <td>NaN</td>\n",
       "      <td>NaN</td>\n",
       "    </tr>\n",
       "    <tr>\n",
       "      <th>1</th>\n",
       "      <td>22</td>\n",
       "      <td>26</td>\n",
       "      <td>24</td>\n",
       "      <td>NaN</td>\n",
       "      <td>NaN</td>\n",
       "      <td>2</td>\n",
       "      <td>2</td>\n",
       "      <td>2</td>\n",
       "      <td>NaN</td>\n",
       "      <td>NaN</td>\n",
       "      <td>...</td>\n",
       "      <td>1</td>\n",
       "      <td>1.0</td>\n",
       "      <td>1</td>\n",
       "      <td>2.0</td>\n",
       "      <td>3.0</td>\n",
       "      <td>3.0</td>\n",
       "      <td>NaN</td>\n",
       "      <td>NaN</td>\n",
       "      <td>1.0</td>\n",
       "      <td>3.0</td>\n",
       "    </tr>\n",
       "    <tr>\n",
       "      <th>2</th>\n",
       "      <td>30</td>\n",
       "      <td>20</td>\n",
       "      <td>21</td>\n",
       "      <td>22.0</td>\n",
       "      <td>23.0</td>\n",
       "      <td>1</td>\n",
       "      <td>2</td>\n",
       "      <td>1</td>\n",
       "      <td>2.0</td>\n",
       "      <td>2.0</td>\n",
       "      <td>...</td>\n",
       "      <td>3</td>\n",
       "      <td>NaN</td>\n",
       "      <td>1</td>\n",
       "      <td>1.0</td>\n",
       "      <td>2.0</td>\n",
       "      <td>2.0</td>\n",
       "      <td>1.0</td>\n",
       "      <td>1.0</td>\n",
       "      <td>1.0</td>\n",
       "      <td>NaN</td>\n",
       "    </tr>\n",
       "  </tbody>\n",
       "</table>\n",
       "<p>3 rows × 24 columns</p>\n",
       "</div>"
      ],
      "text/plain": [
       "   AlterAge1  AlterAge2  AlterAge3  AlterAge4  AlterAge5  AlterGender1  \\\n",
       "0         45         18         25       24.0        NaN             1   \n",
       "1         22         26         24        NaN        NaN             2   \n",
       "2         30         20         21       22.0       23.0             1   \n",
       "\n",
       "   AlterGender2  AlterGender3  AlterGender4  AlterGender5     ...      \\\n",
       "0             1             2           2.0           NaN     ...       \n",
       "1             2             2           NaN           NaN     ...       \n",
       "2             2             1           2.0           2.0     ...       \n",
       "\n",
       "   knowing1-2  knowing1-3  knowing1-4  knowing1-5  knowing2-3  knowing2-4  \\\n",
       "0           1         2.0           1         NaN         NaN         NaN   \n",
       "1           1         1.0           1         2.0         3.0         3.0   \n",
       "2           3         NaN           1         1.0         2.0         2.0   \n",
       "\n",
       "   knowing2-5  knowing3-4  knowing3-5  knowing4-5  \n",
       "0         NaN         2.0         NaN         NaN  \n",
       "1         NaN         NaN         1.0         3.0  \n",
       "2         1.0         1.0         1.0         NaN  \n",
       "\n",
       "[3 rows x 24 columns]"
      ]
     },
     "execution_count": 2,
     "metadata": {},
     "output_type": "execute_result"
    }
   ],
   "source": [
    "# sample data with 3 egos\n",
    "df = pd.DataFrame({'egoID': [1,2,3], \n",
    "                   'egoAge': [20,18,23], \n",
    "                   'egoGender': [1,2,2],\n",
    "                  'Netsize': [4,3,5],'AlterAge1': [45,22,30],'AlterAge2': [18,26,20],'AlterAge3': [25,24,21],\n",
    "                   'AlterAge4': [24,np.NaN,22], 'AlterAge5': [np.NaN,np.NaN,23], 'AlterGender1': [1,2,1],\n",
    "                   'AlterGender2': [1,2,2],'AlterGender3': [2,2,1],\n",
    "                   'AlterGender4': [2,np.NaN,2], 'AlterGender5': [np.NaN,np.NaN,2],\n",
    "                   'knowing1-2': [1,1,3],'knowing1-3': [2,1, np.NaN], 'knowing1-4': [1,1,1], 'knowing1-5': [np.NaN,2,1], \n",
    "                   'knowing2-3': [np.NaN,3,2], 'knowing2-4': [np.NaN,3,2], 'knowing2-5': [np.NaN,np.NaN,1],\n",
    "                   'knowing3-4': [2, np.NaN,1], 'knowing3-5': [np.NaN,1,1], 'knowing4-5': [np.NaN,3,np.NaN]})\n",
    "df"
   ]
  },
  {
   "cell_type": "markdown",
   "metadata": {},
   "source": [
    "This format is not appropriate for the desired analysis. Thus, I have to reshape it from wide to long format. To get tidy datasets, I will create 3 dataframes, one for ego attributes, one for alter attributes and one for the alter-alter ties."
   ]
  },
  {
   "cell_type": "markdown",
   "metadata": {},
   "source": [
    "## Alter-Alter ties"
   ]
  },
  {
   "cell_type": "code",
   "execution_count": 3,
   "metadata": {},
   "outputs": [
    {
     "data": {
      "text/html": [
       "<div>\n",
       "<style scoped>\n",
       "    .dataframe tbody tr th:only-of-type {\n",
       "        vertical-align: middle;\n",
       "    }\n",
       "\n",
       "    .dataframe tbody tr th {\n",
       "        vertical-align: top;\n",
       "    }\n",
       "\n",
       "    .dataframe thead th {\n",
       "        text-align: right;\n",
       "    }\n",
       "</style>\n",
       "<table border=\"1\" class=\"dataframe\">\n",
       "  <thead>\n",
       "    <tr style=\"text-align: right;\">\n",
       "      <th></th>\n",
       "      <th>egoID</th>\n",
       "      <th>Netsize</th>\n",
       "      <th>alter-alter</th>\n",
       "      <th>knowing</th>\n",
       "    </tr>\n",
       "  </thead>\n",
       "  <tbody>\n",
       "    <tr>\n",
       "      <th>0</th>\n",
       "      <td>1</td>\n",
       "      <td>4</td>\n",
       "      <td>1-2</td>\n",
       "      <td>1.0</td>\n",
       "    </tr>\n",
       "    <tr>\n",
       "      <th>1</th>\n",
       "      <td>2</td>\n",
       "      <td>3</td>\n",
       "      <td>1-2</td>\n",
       "      <td>1.0</td>\n",
       "    </tr>\n",
       "    <tr>\n",
       "      <th>2</th>\n",
       "      <td>3</td>\n",
       "      <td>5</td>\n",
       "      <td>1-2</td>\n",
       "      <td>3.0</td>\n",
       "    </tr>\n",
       "    <tr>\n",
       "      <th>3</th>\n",
       "      <td>1</td>\n",
       "      <td>4</td>\n",
       "      <td>1-3</td>\n",
       "      <td>2.0</td>\n",
       "    </tr>\n",
       "    <tr>\n",
       "      <th>4</th>\n",
       "      <td>2</td>\n",
       "      <td>3</td>\n",
       "      <td>1-3</td>\n",
       "      <td>1.0</td>\n",
       "    </tr>\n",
       "  </tbody>\n",
       "</table>\n",
       "</div>"
      ],
      "text/plain": [
       "   egoID  Netsize alter-alter  knowing\n",
       "0      1        4         1-2      1.0\n",
       "1      2        3         1-2      1.0\n",
       "2      3        5         1-2      3.0\n",
       "3      1        4         1-3      2.0\n",
       "4      2        3         1-3      1.0"
      ]
     },
     "execution_count": 3,
     "metadata": {},
     "output_type": "execute_result"
    }
   ],
   "source": [
    "df_long = pd.wide_to_long(df, stubnames='knowing', i='egoID', j='alter-alter').reset_index()\n",
    "df_long_matrix = df_long[['egoID', 'Netsize', 'alter-alter', 'knowing']].copy()\n",
    "df_long_matrix.head()"
   ]
  },
  {
   "cell_type": "code",
   "execution_count": 4,
   "metadata": {},
   "outputs": [
    {
     "data": {
      "text/html": [
       "<div>\n",
       "<style scoped>\n",
       "    .dataframe tbody tr th:only-of-type {\n",
       "        vertical-align: middle;\n",
       "    }\n",
       "\n",
       "    .dataframe tbody tr th {\n",
       "        vertical-align: top;\n",
       "    }\n",
       "\n",
       "    .dataframe thead th {\n",
       "        text-align: right;\n",
       "    }\n",
       "</style>\n",
       "<table border=\"1\" class=\"dataframe\">\n",
       "  <thead>\n",
       "    <tr style=\"text-align: right;\">\n",
       "      <th></th>\n",
       "      <th>egoID</th>\n",
       "      <th>Netsize</th>\n",
       "      <th>alter-alter</th>\n",
       "      <th>knowing</th>\n",
       "      <th>Source</th>\n",
       "      <th>Target</th>\n",
       "    </tr>\n",
       "  </thead>\n",
       "  <tbody>\n",
       "    <tr>\n",
       "      <th>0</th>\n",
       "      <td>1</td>\n",
       "      <td>4</td>\n",
       "      <td>1-2</td>\n",
       "      <td>1.0</td>\n",
       "      <td>1</td>\n",
       "      <td>2</td>\n",
       "    </tr>\n",
       "    <tr>\n",
       "      <th>18</th>\n",
       "      <td>1</td>\n",
       "      <td>4</td>\n",
       "      <td>2-5</td>\n",
       "      <td>NaN</td>\n",
       "      <td>2</td>\n",
       "      <td>5</td>\n",
       "    </tr>\n",
       "    <tr>\n",
       "      <th>15</th>\n",
       "      <td>1</td>\n",
       "      <td>4</td>\n",
       "      <td>2-4</td>\n",
       "      <td>NaN</td>\n",
       "      <td>2</td>\n",
       "      <td>4</td>\n",
       "    </tr>\n",
       "    <tr>\n",
       "      <th>12</th>\n",
       "      <td>1</td>\n",
       "      <td>4</td>\n",
       "      <td>2-3</td>\n",
       "      <td>NaN</td>\n",
       "      <td>2</td>\n",
       "      <td>3</td>\n",
       "    </tr>\n",
       "    <tr>\n",
       "      <th>24</th>\n",
       "      <td>1</td>\n",
       "      <td>4</td>\n",
       "      <td>3-5</td>\n",
       "      <td>NaN</td>\n",
       "      <td>3</td>\n",
       "      <td>5</td>\n",
       "    </tr>\n",
       "  </tbody>\n",
       "</table>\n",
       "</div>"
      ],
      "text/plain": [
       "    egoID  Netsize alter-alter  knowing Source Target\n",
       "0       1        4         1-2      1.0      1      2\n",
       "18      1        4         2-5      NaN      2      5\n",
       "15      1        4         2-4      NaN      2      4\n",
       "12      1        4         2-3      NaN      2      3\n",
       "24      1        4         3-5      NaN      3      5"
      ]
     },
     "execution_count": 4,
     "metadata": {},
     "output_type": "execute_result"
    }
   ],
   "source": [
    "df_long_matrix[['Source', 'Target']] = df_long_matrix['alter-alter'].str.split('-', expand=True, n=1)\n",
    "df_long_matrix.sort_values(by=['egoID'], ascending=[True], inplace = True)\n",
    "df_long_matrix.head()"
   ]
  },
  {
   "cell_type": "code",
   "execution_count": 5,
   "metadata": {},
   "outputs": [
    {
     "data": {
      "text/html": [
       "<div>\n",
       "<style scoped>\n",
       "    .dataframe tbody tr th:only-of-type {\n",
       "        vertical-align: middle;\n",
       "    }\n",
       "\n",
       "    .dataframe tbody tr th {\n",
       "        vertical-align: top;\n",
       "    }\n",
       "\n",
       "    .dataframe thead th {\n",
       "        text-align: right;\n",
       "    }\n",
       "</style>\n",
       "<table border=\"1\" class=\"dataframe\">\n",
       "  <thead>\n",
       "    <tr style=\"text-align: right;\">\n",
       "      <th></th>\n",
       "      <th>egoID</th>\n",
       "      <th>Netsize</th>\n",
       "      <th>alter-alter</th>\n",
       "      <th>knowing</th>\n",
       "      <th>Source</th>\n",
       "      <th>Target</th>\n",
       "    </tr>\n",
       "  </thead>\n",
       "  <tbody>\n",
       "    <tr>\n",
       "      <th>0</th>\n",
       "      <td>1</td>\n",
       "      <td>4</td>\n",
       "      <td>1-2</td>\n",
       "      <td>1.0</td>\n",
       "      <td>1</td>\n",
       "      <td>2</td>\n",
       "    </tr>\n",
       "    <tr>\n",
       "      <th>21</th>\n",
       "      <td>1</td>\n",
       "      <td>4</td>\n",
       "      <td>3-4</td>\n",
       "      <td>2.0</td>\n",
       "      <td>3</td>\n",
       "      <td>4</td>\n",
       "    </tr>\n",
       "    <tr>\n",
       "      <th>3</th>\n",
       "      <td>1</td>\n",
       "      <td>4</td>\n",
       "      <td>1-3</td>\n",
       "      <td>2.0</td>\n",
       "      <td>1</td>\n",
       "      <td>3</td>\n",
       "    </tr>\n",
       "    <tr>\n",
       "      <th>6</th>\n",
       "      <td>1</td>\n",
       "      <td>4</td>\n",
       "      <td>1-4</td>\n",
       "      <td>1.0</td>\n",
       "      <td>1</td>\n",
       "      <td>4</td>\n",
       "    </tr>\n",
       "    <tr>\n",
       "      <th>7</th>\n",
       "      <td>2</td>\n",
       "      <td>3</td>\n",
       "      <td>1-4</td>\n",
       "      <td>1.0</td>\n",
       "      <td>1</td>\n",
       "      <td>4</td>\n",
       "    </tr>\n",
       "  </tbody>\n",
       "</table>\n",
       "</div>"
      ],
      "text/plain": [
       "    egoID  Netsize alter-alter  knowing Source Target\n",
       "0       1        4         1-2      1.0      1      2\n",
       "21      1        4         3-4      2.0      3      4\n",
       "3       1        4         1-3      2.0      1      3\n",
       "6       1        4         1-4      1.0      1      4\n",
       "7       2        3         1-4      1.0      1      4"
      ]
     },
     "execution_count": 5,
     "metadata": {},
     "output_type": "execute_result"
    }
   ],
   "source": [
    "# drop rows were alter-alter don't know each other\n",
    "alter_alter_df = df_long_matrix[df_long_matrix.knowing.notnull()].query('knowing != 0').copy()\n",
    "alter_alter_df.head()"
   ]
  },
  {
   "cell_type": "markdown",
   "metadata": {},
   "source": [
    "## Ego attributes"
   ]
  },
  {
   "cell_type": "code",
   "execution_count": 6,
   "metadata": {},
   "outputs": [
    {
     "data": {
      "text/plain": [
       "array(['AlterAge1', 'AlterAge2', 'AlterAge3', 'AlterAge4', 'AlterAge5',\n",
       "       'AlterGender1', 'AlterGender2', 'AlterGender3', 'AlterGender4',\n",
       "       'AlterGender5', 'Netsize', 'egoAge', 'egoGender', 'egoID',\n",
       "       'knowing1-2', 'knowing1-3', 'knowing1-4', 'knowing1-5',\n",
       "       'knowing2-3', 'knowing2-4', 'knowing2-5', 'knowing3-4',\n",
       "       'knowing3-5', 'knowing4-5'], dtype=object)"
      ]
     },
     "execution_count": 6,
     "metadata": {},
     "output_type": "execute_result"
    }
   ],
   "source": [
    "# I will use the original df from above to create a new ego attribute df\n",
    "df.columns.values"
   ]
  },
  {
   "cell_type": "code",
   "execution_count": 7,
   "metadata": {},
   "outputs": [
    {
     "data": {
      "text/html": [
       "<div>\n",
       "<style scoped>\n",
       "    .dataframe tbody tr th:only-of-type {\n",
       "        vertical-align: middle;\n",
       "    }\n",
       "\n",
       "    .dataframe tbody tr th {\n",
       "        vertical-align: top;\n",
       "    }\n",
       "\n",
       "    .dataframe thead th {\n",
       "        text-align: right;\n",
       "    }\n",
       "</style>\n",
       "<table border=\"1\" class=\"dataframe\">\n",
       "  <thead>\n",
       "    <tr style=\"text-align: right;\">\n",
       "      <th></th>\n",
       "      <th>egoID</th>\n",
       "      <th>Netsize</th>\n",
       "      <th>egoAge</th>\n",
       "      <th>egoGender</th>\n",
       "    </tr>\n",
       "  </thead>\n",
       "  <tbody>\n",
       "    <tr>\n",
       "      <th>0</th>\n",
       "      <td>1</td>\n",
       "      <td>4</td>\n",
       "      <td>20</td>\n",
       "      <td>1</td>\n",
       "    </tr>\n",
       "    <tr>\n",
       "      <th>1</th>\n",
       "      <td>2</td>\n",
       "      <td>3</td>\n",
       "      <td>18</td>\n",
       "      <td>2</td>\n",
       "    </tr>\n",
       "    <tr>\n",
       "      <th>2</th>\n",
       "      <td>3</td>\n",
       "      <td>5</td>\n",
       "      <td>23</td>\n",
       "      <td>2</td>\n",
       "    </tr>\n",
       "  </tbody>\n",
       "</table>\n",
       "</div>"
      ],
      "text/plain": [
       "   egoID  Netsize  egoAge  egoGender\n",
       "0      1        4      20          1\n",
       "1      2        3      18          2\n",
       "2      3        5      23          2"
      ]
     },
     "execution_count": 7,
     "metadata": {},
     "output_type": "execute_result"
    }
   ],
   "source": [
    "# create a new df, keeping egoID, egoAge, egoGender and Netsize\n",
    "df_ego_attr = df[['egoID', 'Netsize', 'egoAge', 'egoGender']].copy()\n",
    "df_ego_attr.head()"
   ]
  },
  {
   "cell_type": "markdown",
   "metadata": {},
   "source": [
    "## Alter attributes"
   ]
  },
  {
   "cell_type": "code",
   "execution_count": 8,
   "metadata": {},
   "outputs": [
    {
     "data": {
      "text/plain": [
       "array(['AlterAge1', 'AlterAge2', 'AlterAge3', 'AlterAge4', 'AlterAge5',\n",
       "       'AlterGender1', 'AlterGender2', 'AlterGender3', 'AlterGender4',\n",
       "       'AlterGender5', 'Netsize', 'egoAge', 'egoGender', 'egoID',\n",
       "       'knowing1-2', 'knowing1-3', 'knowing1-4', 'knowing1-5',\n",
       "       'knowing2-3', 'knowing2-4', 'knowing2-5', 'knowing3-4',\n",
       "       'knowing3-5', 'knowing4-5'], dtype=object)"
      ]
     },
     "execution_count": 8,
     "metadata": {},
     "output_type": "execute_result"
    }
   ],
   "source": [
    "# using df to create a new alter attribute df\n",
    "df.columns.values"
   ]
  },
  {
   "cell_type": "code",
   "execution_count": 9,
   "metadata": {},
   "outputs": [],
   "source": [
    "df_alter_attr = pd.wide_to_long(df, stubnames=['AlterAge', 'AlterGender'], i='egoID', j='alterID')\n",
    "df_alter_attr.reset_index(inplace=True)\n",
    "# only keep the alter attribute variables as well as the egoID\n",
    "df_alter_attr = df_alter_attr[['egoID', 'alterID', 'AlterAge', 'AlterGender']]"
   ]
  },
  {
   "cell_type": "code",
   "execution_count": 10,
   "metadata": {},
   "outputs": [
    {
     "data": {
      "text/html": [
       "<div>\n",
       "<style scoped>\n",
       "    .dataframe tbody tr th:only-of-type {\n",
       "        vertical-align: middle;\n",
       "    }\n",
       "\n",
       "    .dataframe tbody tr th {\n",
       "        vertical-align: top;\n",
       "    }\n",
       "\n",
       "    .dataframe thead th {\n",
       "        text-align: right;\n",
       "    }\n",
       "</style>\n",
       "<table border=\"1\" class=\"dataframe\">\n",
       "  <thead>\n",
       "    <tr style=\"text-align: right;\">\n",
       "      <th></th>\n",
       "      <th>egoID</th>\n",
       "      <th>alterID</th>\n",
       "      <th>AlterAge</th>\n",
       "      <th>AlterGender</th>\n",
       "    </tr>\n",
       "  </thead>\n",
       "  <tbody>\n",
       "    <tr>\n",
       "      <th>0</th>\n",
       "      <td>1</td>\n",
       "      <td>1</td>\n",
       "      <td>45.0</td>\n",
       "      <td>1.0</td>\n",
       "    </tr>\n",
       "    <tr>\n",
       "      <th>1</th>\n",
       "      <td>2</td>\n",
       "      <td>1</td>\n",
       "      <td>22.0</td>\n",
       "      <td>2.0</td>\n",
       "    </tr>\n",
       "    <tr>\n",
       "      <th>2</th>\n",
       "      <td>3</td>\n",
       "      <td>1</td>\n",
       "      <td>30.0</td>\n",
       "      <td>1.0</td>\n",
       "    </tr>\n",
       "    <tr>\n",
       "      <th>3</th>\n",
       "      <td>1</td>\n",
       "      <td>2</td>\n",
       "      <td>18.0</td>\n",
       "      <td>1.0</td>\n",
       "    </tr>\n",
       "    <tr>\n",
       "      <th>4</th>\n",
       "      <td>2</td>\n",
       "      <td>2</td>\n",
       "      <td>26.0</td>\n",
       "      <td>2.0</td>\n",
       "    </tr>\n",
       "  </tbody>\n",
       "</table>\n",
       "</div>"
      ],
      "text/plain": [
       "   egoID alterID  AlterAge  AlterGender\n",
       "0      1       1      45.0          1.0\n",
       "1      2       1      22.0          2.0\n",
       "2      3       1      30.0          1.0\n",
       "3      1       2      18.0          1.0\n",
       "4      2       2      26.0          2.0"
      ]
     },
     "execution_count": 10,
     "metadata": {},
     "output_type": "execute_result"
    }
   ],
   "source": [
    "df_alter_attr.head()"
   ]
  },
  {
   "cell_type": "code",
   "execution_count": 11,
   "metadata": {},
   "outputs": [
    {
     "data": {
      "text/html": [
       "<div>\n",
       "<style scoped>\n",
       "    .dataframe tbody tr th:only-of-type {\n",
       "        vertical-align: middle;\n",
       "    }\n",
       "\n",
       "    .dataframe tbody tr th {\n",
       "        vertical-align: top;\n",
       "    }\n",
       "\n",
       "    .dataframe thead th {\n",
       "        text-align: right;\n",
       "    }\n",
       "</style>\n",
       "<table border=\"1\" class=\"dataframe\">\n",
       "  <thead>\n",
       "    <tr style=\"text-align: right;\">\n",
       "      <th></th>\n",
       "      <th>egoID</th>\n",
       "      <th>alterID</th>\n",
       "      <th>AlterAge</th>\n",
       "      <th>AlterGender</th>\n",
       "    </tr>\n",
       "  </thead>\n",
       "  <tbody>\n",
       "    <tr>\n",
       "      <th>0</th>\n",
       "      <td>1</td>\n",
       "      <td>1</td>\n",
       "      <td>45.0</td>\n",
       "      <td>1.0</td>\n",
       "    </tr>\n",
       "    <tr>\n",
       "      <th>3</th>\n",
       "      <td>1</td>\n",
       "      <td>2</td>\n",
       "      <td>18.0</td>\n",
       "      <td>1.0</td>\n",
       "    </tr>\n",
       "    <tr>\n",
       "      <th>6</th>\n",
       "      <td>1</td>\n",
       "      <td>3</td>\n",
       "      <td>25.0</td>\n",
       "      <td>2.0</td>\n",
       "    </tr>\n",
       "    <tr>\n",
       "      <th>9</th>\n",
       "      <td>1</td>\n",
       "      <td>4</td>\n",
       "      <td>24.0</td>\n",
       "      <td>2.0</td>\n",
       "    </tr>\n",
       "    <tr>\n",
       "      <th>12</th>\n",
       "      <td>1</td>\n",
       "      <td>5</td>\n",
       "      <td>NaN</td>\n",
       "      <td>NaN</td>\n",
       "    </tr>\n",
       "    <tr>\n",
       "      <th>1</th>\n",
       "      <td>2</td>\n",
       "      <td>1</td>\n",
       "      <td>22.0</td>\n",
       "      <td>2.0</td>\n",
       "    </tr>\n",
       "    <tr>\n",
       "      <th>4</th>\n",
       "      <td>2</td>\n",
       "      <td>2</td>\n",
       "      <td>26.0</td>\n",
       "      <td>2.0</td>\n",
       "    </tr>\n",
       "    <tr>\n",
       "      <th>7</th>\n",
       "      <td>2</td>\n",
       "      <td>3</td>\n",
       "      <td>24.0</td>\n",
       "      <td>2.0</td>\n",
       "    </tr>\n",
       "    <tr>\n",
       "      <th>10</th>\n",
       "      <td>2</td>\n",
       "      <td>4</td>\n",
       "      <td>NaN</td>\n",
       "      <td>NaN</td>\n",
       "    </tr>\n",
       "    <tr>\n",
       "      <th>13</th>\n",
       "      <td>2</td>\n",
       "      <td>5</td>\n",
       "      <td>NaN</td>\n",
       "      <td>NaN</td>\n",
       "    </tr>\n",
       "    <tr>\n",
       "      <th>2</th>\n",
       "      <td>3</td>\n",
       "      <td>1</td>\n",
       "      <td>30.0</td>\n",
       "      <td>1.0</td>\n",
       "    </tr>\n",
       "    <tr>\n",
       "      <th>5</th>\n",
       "      <td>3</td>\n",
       "      <td>2</td>\n",
       "      <td>20.0</td>\n",
       "      <td>2.0</td>\n",
       "    </tr>\n",
       "    <tr>\n",
       "      <th>8</th>\n",
       "      <td>3</td>\n",
       "      <td>3</td>\n",
       "      <td>21.0</td>\n",
       "      <td>1.0</td>\n",
       "    </tr>\n",
       "    <tr>\n",
       "      <th>11</th>\n",
       "      <td>3</td>\n",
       "      <td>4</td>\n",
       "      <td>22.0</td>\n",
       "      <td>2.0</td>\n",
       "    </tr>\n",
       "    <tr>\n",
       "      <th>14</th>\n",
       "      <td>3</td>\n",
       "      <td>5</td>\n",
       "      <td>23.0</td>\n",
       "      <td>2.0</td>\n",
       "    </tr>\n",
       "  </tbody>\n",
       "</table>\n",
       "</div>"
      ],
      "text/plain": [
       "    egoID alterID  AlterAge  AlterGender\n",
       "0       1       1      45.0          1.0\n",
       "3       1       2      18.0          1.0\n",
       "6       1       3      25.0          2.0\n",
       "9       1       4      24.0          2.0\n",
       "12      1       5       NaN          NaN\n",
       "1       2       1      22.0          2.0\n",
       "4       2       2      26.0          2.0\n",
       "7       2       3      24.0          2.0\n",
       "10      2       4       NaN          NaN\n",
       "13      2       5       NaN          NaN\n",
       "2       3       1      30.0          1.0\n",
       "5       3       2      20.0          2.0\n",
       "8       3       3      21.0          1.0\n",
       "11      3       4      22.0          2.0\n",
       "14      3       5      23.0          2.0"
      ]
     },
     "execution_count": 11,
     "metadata": {},
     "output_type": "execute_result"
    }
   ],
   "source": [
    "# this looks confusing, I will sort the df by egoID\n",
    "df_alter_attr.sort_values(by=['egoID'], ascending=[True], inplace = True)\n",
    "df_alter_attr"
   ]
  },
  {
   "cell_type": "code",
   "execution_count": 12,
   "metadata": {},
   "outputs": [
    {
     "data": {
      "text/html": [
       "<div>\n",
       "<style scoped>\n",
       "    .dataframe tbody tr th:only-of-type {\n",
       "        vertical-align: middle;\n",
       "    }\n",
       "\n",
       "    .dataframe tbody tr th {\n",
       "        vertical-align: top;\n",
       "    }\n",
       "\n",
       "    .dataframe thead th {\n",
       "        text-align: right;\n",
       "    }\n",
       "</style>\n",
       "<table border=\"1\" class=\"dataframe\">\n",
       "  <thead>\n",
       "    <tr style=\"text-align: right;\">\n",
       "      <th></th>\n",
       "      <th>egoID</th>\n",
       "      <th>alterID</th>\n",
       "      <th>AlterAge</th>\n",
       "      <th>AlterGender</th>\n",
       "    </tr>\n",
       "  </thead>\n",
       "  <tbody>\n",
       "    <tr>\n",
       "      <th>0</th>\n",
       "      <td>1</td>\n",
       "      <td>1</td>\n",
       "      <td>45.0</td>\n",
       "      <td>1.0</td>\n",
       "    </tr>\n",
       "    <tr>\n",
       "      <th>3</th>\n",
       "      <td>1</td>\n",
       "      <td>2</td>\n",
       "      <td>18.0</td>\n",
       "      <td>1.0</td>\n",
       "    </tr>\n",
       "    <tr>\n",
       "      <th>6</th>\n",
       "      <td>1</td>\n",
       "      <td>3</td>\n",
       "      <td>25.0</td>\n",
       "      <td>2.0</td>\n",
       "    </tr>\n",
       "    <tr>\n",
       "      <th>9</th>\n",
       "      <td>1</td>\n",
       "      <td>4</td>\n",
       "      <td>24.0</td>\n",
       "      <td>2.0</td>\n",
       "    </tr>\n",
       "    <tr>\n",
       "      <th>1</th>\n",
       "      <td>2</td>\n",
       "      <td>1</td>\n",
       "      <td>22.0</td>\n",
       "      <td>2.0</td>\n",
       "    </tr>\n",
       "    <tr>\n",
       "      <th>4</th>\n",
       "      <td>2</td>\n",
       "      <td>2</td>\n",
       "      <td>26.0</td>\n",
       "      <td>2.0</td>\n",
       "    </tr>\n",
       "    <tr>\n",
       "      <th>7</th>\n",
       "      <td>2</td>\n",
       "      <td>3</td>\n",
       "      <td>24.0</td>\n",
       "      <td>2.0</td>\n",
       "    </tr>\n",
       "    <tr>\n",
       "      <th>2</th>\n",
       "      <td>3</td>\n",
       "      <td>1</td>\n",
       "      <td>30.0</td>\n",
       "      <td>1.0</td>\n",
       "    </tr>\n",
       "    <tr>\n",
       "      <th>5</th>\n",
       "      <td>3</td>\n",
       "      <td>2</td>\n",
       "      <td>20.0</td>\n",
       "      <td>2.0</td>\n",
       "    </tr>\n",
       "    <tr>\n",
       "      <th>8</th>\n",
       "      <td>3</td>\n",
       "      <td>3</td>\n",
       "      <td>21.0</td>\n",
       "      <td>1.0</td>\n",
       "    </tr>\n",
       "    <tr>\n",
       "      <th>11</th>\n",
       "      <td>3</td>\n",
       "      <td>4</td>\n",
       "      <td>22.0</td>\n",
       "      <td>2.0</td>\n",
       "    </tr>\n",
       "    <tr>\n",
       "      <th>14</th>\n",
       "      <td>3</td>\n",
       "      <td>5</td>\n",
       "      <td>23.0</td>\n",
       "      <td>2.0</td>\n",
       "    </tr>\n",
       "  </tbody>\n",
       "</table>\n",
       "</div>"
      ],
      "text/plain": [
       "    egoID alterID  AlterAge  AlterGender\n",
       "0       1       1      45.0          1.0\n",
       "3       1       2      18.0          1.0\n",
       "6       1       3      25.0          2.0\n",
       "9       1       4      24.0          2.0\n",
       "1       2       1      22.0          2.0\n",
       "4       2       2      26.0          2.0\n",
       "7       2       3      24.0          2.0\n",
       "2       3       1      30.0          1.0\n",
       "5       3       2      20.0          2.0\n",
       "8       3       3      21.0          1.0\n",
       "11      3       4      22.0          2.0\n",
       "14      3       5      23.0          2.0"
      ]
     },
     "execution_count": 12,
     "metadata": {},
     "output_type": "execute_result"
    }
   ],
   "source": [
    "# this looks better but there are 5 alterIDs for each egoID even though some egos' netsize is smaller \n",
    "#(i.e. ego reported less alter than 5), in this case, I will drop the rows with NaN as I know, that these NaNs\n",
    "# mean that there is not an actual missing value for a given alter (instead the alter does not exist)\n",
    "df_alter_attr.dropna(how='any', inplace=True)\n",
    "df_alter_attr"
   ]
  },
  {
   "cell_type": "code",
   "execution_count": 13,
   "metadata": {},
   "outputs": [
    {
     "name": "stdout",
     "output_type": "stream",
     "text": [
      "<class 'pandas.core.frame.DataFrame'>\n",
      "Int64Index: 12 entries, 0 to 14\n",
      "Data columns (total 4 columns):\n",
      "egoID          12 non-null int64\n",
      "alterID        12 non-null object\n",
      "AlterAge       12 non-null float64\n",
      "AlterGender    12 non-null float64\n",
      "dtypes: float64(2), int64(1), object(1)\n",
      "memory usage: 480.0+ bytes\n"
     ]
    }
   ],
   "source": [
    "df_alter_attr.info()\n",
    "# if alterID isn't object, change alterID from to object (otherwise set_node_attributes will not work!)"
   ]
  },
  {
   "cell_type": "markdown",
   "metadata": {},
   "source": [
    "# visualize with networkx"
   ]
  },
  {
   "cell_type": "code",
   "execution_count": 14,
   "metadata": {},
   "outputs": [],
   "source": [
    "# create a graph for a specific egoID\n",
    "graph = nx.from_pandas_edgelist(alter_alter_df[alter_alter_df['egoID'] == 1], \n",
    "                                 source = 'Source', \n",
    "                                 target = 'Target', \n",
    "                                 edge_attr = 'knowing')"
   ]
  },
  {
   "cell_type": "code",
   "execution_count": 15,
   "metadata": {},
   "outputs": [
    {
     "data": {
      "text/plain": [
       "NodeView(('1', '2', '3', '4'))"
      ]
     },
     "execution_count": 15,
     "metadata": {},
     "output_type": "execute_result"
    }
   ],
   "source": [
    "graph.node"
   ]
  },
  {
   "cell_type": "code",
   "execution_count": 16,
   "metadata": {},
   "outputs": [
    {
     "data": {
      "text/plain": [
       "EdgeView([('1', '2'), ('1', '3'), ('1', '4'), ('3', '4')])"
      ]
     },
     "execution_count": 16,
     "metadata": {},
     "output_type": "execute_result"
    }
   ],
   "source": [
    "graph.edges"
   ]
  },
  {
   "cell_type": "code",
   "execution_count": 17,
   "metadata": {},
   "outputs": [
    {
     "data": {
      "text/plain": [
       "0.6666666666666666"
      ]
     },
     "execution_count": 17,
     "metadata": {},
     "output_type": "execute_result"
    }
   ],
   "source": [
    "# What is the average edge density?\n",
    "nx.density(graph) "
   ]
  },
  {
   "cell_type": "code",
   "execution_count": 18,
   "metadata": {},
   "outputs": [
    {
     "name": "stdout",
     "output_type": "stream",
     "text": [
      "The gender of Alter 1 is: 1.0\n",
      "The age of Alter 3 is: 25.0\n"
     ]
    }
   ],
   "source": [
    "# connect nodes with information about the alters\n",
    "# create a dict with alter attributes\n",
    "alter_attr_dict = df_alter_attr[df_alter_attr['egoID']==1].set_index('alterID').to_dict('index')\n",
    "nx.set_node_attributes(graph, alter_attr_dict)\n",
    "\n",
    "print('The gender of Alter 1 is: {}'.format(graph.node['1']['AlterGender']))\n",
    "print('The age of Alter 3 is: {}'.format(graph.node['3']['AlterAge']))"
   ]
  },
  {
   "cell_type": "code",
   "execution_count": 19,
   "metadata": {},
   "outputs": [
    {
     "data": {
      "text/html": [
       "<div>\n",
       "<style scoped>\n",
       "    .dataframe tbody tr th:only-of-type {\n",
       "        vertical-align: middle;\n",
       "    }\n",
       "\n",
       "    .dataframe tbody tr th {\n",
       "        vertical-align: top;\n",
       "    }\n",
       "\n",
       "    .dataframe thead th {\n",
       "        text-align: right;\n",
       "    }\n",
       "</style>\n",
       "<table border=\"1\" class=\"dataframe\">\n",
       "  <thead>\n",
       "    <tr style=\"text-align: right;\">\n",
       "      <th></th>\n",
       "      <th>egoID</th>\n",
       "      <th>alterID</th>\n",
       "      <th>AlterAge</th>\n",
       "      <th>AlterGender</th>\n",
       "    </tr>\n",
       "  </thead>\n",
       "  <tbody>\n",
       "    <tr>\n",
       "      <th>0</th>\n",
       "      <td>1</td>\n",
       "      <td>1</td>\n",
       "      <td>45.0</td>\n",
       "      <td>1.0</td>\n",
       "    </tr>\n",
       "    <tr>\n",
       "      <th>3</th>\n",
       "      <td>1</td>\n",
       "      <td>2</td>\n",
       "      <td>18.0</td>\n",
       "      <td>1.0</td>\n",
       "    </tr>\n",
       "    <tr>\n",
       "      <th>6</th>\n",
       "      <td>1</td>\n",
       "      <td>3</td>\n",
       "      <td>25.0</td>\n",
       "      <td>2.0</td>\n",
       "    </tr>\n",
       "    <tr>\n",
       "      <th>9</th>\n",
       "      <td>1</td>\n",
       "      <td>4</td>\n",
       "      <td>24.0</td>\n",
       "      <td>2.0</td>\n",
       "    </tr>\n",
       "  </tbody>\n",
       "</table>\n",
       "</div>"
      ],
      "text/plain": [
       "   egoID alterID  AlterAge  AlterGender\n",
       "0      1       1      45.0          1.0\n",
       "3      1       2      18.0          1.0\n",
       "6      1       3      25.0          2.0\n",
       "9      1       4      24.0          2.0"
      ]
     },
     "execution_count": 19,
     "metadata": {},
     "output_type": "execute_result"
    }
   ],
   "source": [
    "# are these values correct?\n",
    "df_alter_attr[df_alter_attr['egoID']==1]"
   ]
  },
  {
   "cell_type": "code",
   "execution_count": 20,
   "metadata": {},
   "outputs": [
    {
     "data": {
      "text/plain": [
       "{'1': {'egoID': 1.0, 'AlterAge': 45.0, 'AlterGender': 1.0},\n",
       " '2': {'egoID': 1.0, 'AlterAge': 18.0, 'AlterGender': 1.0},\n",
       " '3': {'egoID': 1.0, 'AlterAge': 25.0, 'AlterGender': 2.0},\n",
       " '4': {'egoID': 1.0, 'AlterAge': 24.0, 'AlterGender': 2.0}}"
      ]
     },
     "execution_count": 20,
     "metadata": {},
     "output_type": "execute_result"
    }
   ],
   "source": [
    "# How does this dict look like?\n",
    "alter_attr_dict"
   ]
  },
  {
   "cell_type": "code",
   "execution_count": 21,
   "metadata": {},
   "outputs": [
    {
     "data": {
      "text/plain": [
       "NodeDataView({'1': {'egoID': 1.0, 'AlterAge': 45.0, 'AlterGender': 1.0}, '2': {'egoID': 1.0, 'AlterAge': 18.0, 'AlterGender': 1.0}, '3': {'egoID': 1.0, 'AlterAge': 25.0, 'AlterGender': 2.0}, '4': {'egoID': 1.0, 'AlterAge': 24.0, 'AlterGender': 2.0}})"
      ]
     },
     "execution_count": 21,
     "metadata": {},
     "output_type": "execute_result"
    }
   ],
   "source": [
    "# And know let's look at the connection between graph and the dict\n",
    "graph.nodes(data=True)"
   ]
  },
  {
   "cell_type": "code",
   "execution_count": 22,
   "metadata": {},
   "outputs": [
    {
     "name": "stderr",
     "output_type": "stream",
     "text": [
      "C:\\Users\\Stefanie\\Anaconda3\\envs\\nanodegree\\lib\\site-packages\\networkx\\drawing\\nx_pylab.py:611: MatplotlibDeprecationWarning: isinstance(..., numbers.Number)\n",
      "  if cb.is_numlike(alpha):\n"
     ]
    },
    {
     "data": {
      "image/png": "[encoded data removed]",
      "text/plain": [
       "<Figure size 720x648 with 1 Axes>"
      ]
     },
     "metadata": {
      "needs_background": "light"
     },
     "output_type": "display_data"
    }
   ],
   "source": [
    "# lets begin plotting\n",
    "plt.figure(figsize = (10,9))\n",
    "nx.draw_networkx(graph)"
   ]
  },
  {
   "cell_type": "code",
   "execution_count": 23,
   "metadata": {},
   "outputs": [
    {
     "data": {
      "image/png": "[encoded data removed]",
      "text/plain": [
       "<Figure size 432x288 with 1 Axes>"
      ]
     },
     "metadata": {},
     "output_type": "display_data"
    }
   ],
   "source": [
    "# idea from: https://stackoverflow.com/questions/28910766/python-networkx-set-node-color-automatically-based-on-number-of-attribute-opt\n",
    "# the nodes should be colored regarding their gender\n",
    "# what could go wrong? If one node has no value for the attribute, this step will not work.\n",
    "node_color = []\n",
    "\n",
    "# for each node in the graph\n",
    "for i in graph:\n",
    "\n",
    "    # if the node has the attribute female (2)\n",
    "    if graph.node[i]['AlterGender'] == 2:\n",
    "        node_color.append('orange')\n",
    "\n",
    "    # if the node has the attribute male (1)\n",
    "    else:\n",
    "        node_color.append('blue')\n",
    "\n",
    "# draw graph with node attribute color\n",
    "nx.draw(graph, with_labels=True, node_color=node_color)"
   ]
  },
  {
   "cell_type": "code",
   "execution_count": 24,
   "metadata": {},
   "outputs": [
    {
     "data": {
      "image/png": "[encoded data removed]",
      "text/plain": [
       "<Figure size 720x648 with 1 Axes>"
      ]
     },
     "metadata": {
      "needs_background": "light"
     },
     "output_type": "display_data"
    }
   ],
   "source": [
    "# let's integrate the knowing-information (as thickness of the lines between the nodes)\n",
    "weights = [i['knowing'] for i in dict(graph.edges).values()]\n",
    "labels = [i for i in dict(graph.nodes).keys()]\n",
    "labels = {i:i for i in dict(graph.nodes).keys()}\n",
    "\n",
    "# set a figsize you want\n",
    "fig, ax = plt.subplots(figsize=(10,9))\n",
    "# choose a layout you like\n",
    "pos = nx.spring_layout(graph)\n",
    "# draw the network regarding the knowing-data\n",
    "nx.draw_networkx_nodes(graph, pos, ax = ax, labels=True, node_size=900, node_color=node_color)\n",
    "nx.draw_networkx_edges(graph, pos, width=weights, ax=ax)\n",
    "_ = nx.draw_networkx_labels(graph, pos, labels, ax=ax)\n",
    "plt.axis('off')\n",
    "plt.show()"
   ]
  },
  {
   "cell_type": "code",
   "execution_count": 25,
   "metadata": {},
   "outputs": [],
   "source": [
    "# I'd like to add some information about the network\n",
    "# calculate the information\n",
    "dens = np.round(nx.density(graph),2)\n",
    "netsize = len(graph)\n",
    "average_age = np.round(np.mean([graph.node[i]['AlterAge'] for i in graph]),2)\n",
    "my_list = [netsize, dens, average_age]\n",
    "textstr = F' Networksize = {netsize}\\n Density = {dens} \\n Average Age = {average_age}'"
   ]
  },
  {
   "cell_type": "code",
   "execution_count": 29,
   "metadata": {},
   "outputs": [
    {
     "data": {
      "image/png": "[encoded data removed]",
      "text/plain": [
       "<Figure size 720x648 with 1 Axes>"
      ]
     },
     "metadata": {
      "needs_background": "light"
     },
     "output_type": "display_data"
    }
   ],
   "source": [
    "# get weights\n",
    "weights = [i['knowing'] for i in dict(graph.edges).values()]\n",
    "labels = [i for i in dict(graph.nodes).keys()]\n",
    "labels = {i:i for i in dict(graph.nodes).keys()}\n",
    "nodes = graph.nodes()\n",
    "\n",
    "# drawing nodes and edges separately so we can capture collection for colobar\n",
    "fig, ax = plt.subplots(figsize = (10,9))\n",
    "pos = nx.spring_layout(graph)\n",
    "node = nx.draw_networkx_nodes(graph, pos, ax = ax, labels = False, \n",
    "                           nodelist = nodes, node_color = node_color, \n",
    "                           node_size = 900)\n",
    "draw_node = node.set_edgecolor('grey')\n",
    "edges = nx.draw_networkx_edges(graph, pos, width = weights, ax = ax, edge_color = 'black')\n",
    "\n",
    "text(0.1, 0.9,textstr, ha='left', va='center', transform=ax.transAxes,  fontsize=12)\n",
    "\n",
    "plt.axis('off')\n",
    "plt.show()"
   ]
  },
  {
   "cell_type": "code",
   "execution_count": 32,
   "metadata": {},
   "outputs": [
    {
     "data": {
      "image/png": "[encoded data removed]",
      "text/plain": [
       "<Figure size 720x648 with 1 Axes>"
      ]
     },
     "metadata": {
      "needs_background": "light"
     },
     "output_type": "display_data"
    }
   ],
   "source": [
    "# Wouldn't it be nice to have a color legend?\n",
    "# get weights\n",
    "weights = [i['knowing'] for i in dict(graph.edges).values()]\n",
    "labels = [i for i in dict(graph.nodes).keys()]\n",
    "labels = {i:i for i in dict(graph.nodes).keys()}\n",
    "nodes = graph.nodes()\n",
    "\n",
    "# drawing nodes and edges separately so we can capture collection for colobar\n",
    "fig, ax = plt.subplots(figsize = (10,9))\n",
    "pos = nx.spring_layout(graph)\n",
    "node = nx.draw_networkx_nodes(graph, pos, ax = ax, labels = False, \n",
    "                           nodelist = nodes, node_color = node_color, \n",
    "                           node_size = 900)\n",
    "draw_node = node.set_edgecolor('grey')\n",
    "edges = nx.draw_networkx_edges(graph, pos, width = weights, ax = ax, edge_color = 'black')\n",
    "\n",
    "text(0.1, 0.9,textstr, ha='left', va='center', transform=ax.transAxes,  fontsize=12)\n",
    "\n",
    "# create a color legend without a frame\n",
    "first_patch = mpatches.Patch(color='blue', label='male')\n",
    "second_patch = mpatches.Patch(color='orange', label='female')\n",
    "\n",
    "plt.legend(handles=[first_patch,second_patch], \n",
    "              loc='lower right', fontsize=12, frameon=False)\n",
    "\n",
    "plt.axis('off')\n",
    "plt.show()"
   ]
  },
  {
   "cell_type": "code",
   "execution_count": 28,
   "metadata": {},
   "outputs": [
    {
     "data": {
      "image/png": "[encoded data removed]",
      "text/plain": [
       "<Figure size 720x648 with 1 Axes>"
      ]
     },
     "metadata": {
      "needs_background": "light"
     },
     "output_type": "display_data"
    }
   ],
   "source": [
    "# change the node size according to the age\n",
    "# get weights\n",
    "weights = [i['knowing'] for i in dict(graph.edges).values()]\n",
    "labels = [i for i in dict(graph.nodes).keys()]\n",
    "labels = {i:i for i in dict(graph.nodes).keys()}\n",
    "nodes = graph.nodes()\n",
    "\n",
    "# drawing nodes and edges separately so we can capture collection for colobar\n",
    "fig, ax = plt.subplots(figsize = (10,9))\n",
    "pos = nx.spring_layout(graph)\n",
    "# labels = False to get rid of the labels within the nodes\n",
    "node = nx.draw_networkx_nodes(graph, pos, ax = ax, labels = False, \n",
    "                           nodelist = nodes, node_color = node_color, \n",
    "                           node_size = [graph.node[i]['AlterAge'] ** 2 for i in graph])\n",
    "draw_node = node.set_edgecolor('grey')\n",
    "edges = nx.draw_networkx_edges(graph, pos, width = weights, ax = ax, edge_color = 'black')\n",
    "\n",
    "text(0.1, 0.9,textstr, ha='left', va='center', transform=ax.transAxes,  fontsize=12)\n",
    "\n",
    "# create a color legend without a frame\n",
    "first_patch = mpatches.Patch(color='blue', label='male')\n",
    "second_patch = mpatches.Patch(color='orange', label='female')\n",
    "\n",
    "plt.legend(handles=[first_patch,second_patch], \n",
    "              loc='lower right', fontsize=12, frameon=False)\n",
    "\n",
    "plt.axis('off')\n",
    "plt.show()"
   ]
  },
  {
   "cell_type": "code",
   "execution_count": null,
   "metadata": {},
   "outputs": [],
   "source": []
  }
 ],
 "metadata": {
  "kernelspec": {
   "display_name": "Python 3",
   "language": "python",
   "name": "python3"
  },
  "language_info": {
   "codemirror_mode": {
    "name": "ipython",
    "version": 3
   },
   "file_extension": ".py",
   "mimetype": "text/x-python",
   "name": "python",
   "nbconvert_exporter": "python",
   "pygments_lexer": "ipython3",
   "version": "3.6.4"
  }
 },
 "nbformat": 4,
 "nbformat_minor": 1
}
